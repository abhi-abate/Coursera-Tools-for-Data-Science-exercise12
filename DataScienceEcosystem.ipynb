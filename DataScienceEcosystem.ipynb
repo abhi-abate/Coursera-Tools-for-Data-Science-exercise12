{
 "cells": [
  {
   "cell_type": "markdown",
   "id": "b31504b4",
   "metadata": {},
   "source": [
    "# Data science Tools and Ecosystem"
   ]
  },
  {
   "cell_type": "markdown",
   "id": "ce047b33",
   "metadata": {},
   "source": [
    "In this notebook, Data Science Tools and Ecosystem are summarized."
   ]
  },
  {
   "cell_type": "markdown",
   "id": "73655b0d",
   "metadata": {},
   "source": [
    "Some of the popular languages that Data Scientists use are:\n",
    "1) Python\n",
    "2) R language\n",
    "3) SQL\n",
    "4) Java\n",
    "5) C++ and etc"
   ]
  },
  {
   "cell_type": "markdown",
   "id": "e9b3ea9d",
   "metadata": {},
   "source": [
    "Some of the commonly used libraries used by Data Scientists include:\n",
    "1) Pandas\n",
    "2) numpy\n",
    "3) keras\n",
    "4) Tensorflow\n",
    "4) Matplotlib\n",
    "5) Seaborn\n",
    "6) PyTorch\n",
    "7) Scipy\n",
    "\n"
   ]
  },
  {
   "cell_type": "markdown",
   "id": "8a70d5fc",
   "metadata": {},
   "source": [
    "|Data Science Tools|\n",
    "|---|\n",
    "|Tensor Flow|\n",
    "|Apache Hadoop|\n",
    "|SAS|"
   ]
  },
  {
   "cell_type": "markdown",
   "id": "43baa827",
   "metadata": {},
   "source": [
    "### Below are a few examples of evaluating arithmetic expressions in Python"
   ]
  },
  {
   "cell_type": "code",
   "execution_count": 1,
   "id": "9fcb5344",
   "metadata": {},
   "outputs": [
    {
     "data": {
      "text/plain": [
       "17"
      ]
     },
     "execution_count": 1,
     "metadata": {},
     "output_type": "execute_result"
    }
   ],
   "source": [
    "# This a simple arithmetic expression to mutiply then add integers\n",
    "(3*4)+5"
   ]
  },
  {
   "cell_type": "code",
   "execution_count": 2,
   "id": "7b6ff77c",
   "metadata": {},
   "outputs": [
    {
     "data": {
      "text/plain": [
       "3.3333333333333335"
      ]
     },
     "execution_count": 2,
     "metadata": {},
     "output_type": "execute_result"
    }
   ],
   "source": [
    "# This will convert 200 minutes to hours by diving by 60\n",
    "200/60"
   ]
  },
  {
   "cell_type": "markdown",
   "id": "4be1d643",
   "metadata": {},
   "source": [
    "__Objective__\n",
    "* List popular languages for Data Science\n",
    "* List Popular libraries for Data science\n",
    "* Well known data science Tools\n",
    "* How to comment on a cell"
   ]
  },
  {
   "cell_type": "markdown",
   "id": "0fd95f26",
   "metadata": {},
   "source": [
    "## Author\n",
    "ABHISHEK KUMAR"
   ]
  },
  {
   "cell_type": "code",
   "execution_count": null,
   "id": "7d0f6fc9",
   "metadata": {},
   "outputs": [],
   "source": []
  }
 ],
 "metadata": {
  "kernelspec": {
   "display_name": "Python 3 (ipykernel)",
   "language": "python",
   "name": "python3"
  },
  "language_info": {
   "codemirror_mode": {
    "name": "ipython",
    "version": 3
   },
   "file_extension": ".py",
   "mimetype": "text/x-python",
   "name": "python",
   "nbconvert_exporter": "python",
   "pygments_lexer": "ipython3",
   "version": "3.10.9"
  }
 },
 "nbformat": 4,
 "nbformat_minor": 5
}
